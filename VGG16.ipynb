{
  "nbformat": 4,
  "nbformat_minor": 0,
  "metadata": {
    "colab": {
      "provenance": [],
      "include_colab_link": true
    },
    "kernelspec": {
      "name": "python3",
      "display_name": "Python 3"
    },
    "language_info": {
      "name": "python"
    }
  },
  "cells": [
    {
      "cell_type": "markdown",
      "metadata": {
        "id": "view-in-github",
        "colab_type": "text"
      },
      "source": [
        "<a href=\"https://colab.research.google.com/github/EbrahimZarei64/CNNHSIE/blob/main/VGG16.ipynb\" target=\"_parent\"><img src=\"https://colab.research.google.com/assets/colab-badge.svg\" alt=\"Open In Colab\"/></a>"
      ]
    },
    {
      "cell_type": "code",
      "execution_count": 1,
      "metadata": {
        "id": "PIweTxGTVI0w"
      },
      "outputs": [],
      "source": [
        "import torch\n",
        "import torchvision.transforms as transforms\n",
        "from PIL import Image\n",
        "import torchvision.models as models\n",
        "import time\n",
        "import requests\n",
        "from io import BytesIO"
      ]
    },
    {
      "cell_type": "code",
      "source": [
        "device = torch.device(\"cuda\" if torch.cuda.is_available() else \"cpu\")\n",
        "print(device)\n",
        "vgg16 = models.vgg16(pretrained=True)\n",
        "vgg16.to(device)\n",
        "\n",
        "vgg16.classifier = torch.nn.Sequential(\n",
        "    vgg16.classifier[0],\n",
        "    vgg16.classifier[1],\n",
        "    vgg16.classifier[3],\n",
        "    vgg16.classifier[4]\n",
        ")\n",
        "vgg16.classifier[0] = torch.nn.Linear(25088, 2048)\n",
        "vgg16.classifier[2] = torch.nn.Linear(2048, 512)\n",
        "vgg16.classifier[1] = torch.nn.Sigmoid()\n",
        "vgg16.classifier[3] = torch.nn.Sigmoid()\n",
        "\n",
        "image_url = 'https:// The image URL'  #Example: 'https://sipi.usc.edu/database/download.php?vol=aerials&img=2.2.01'\n",
        "\n",
        "# Download the image from the URL\n",
        "response = requests.get(image_url)\n",
        "image = Image.open(BytesIO(response.content)).convert('RGB')\n",
        "\n",
        "# Preprocess the input image\n",
        "transform = transforms.Compose([\n",
        "    transforms.Resize((224, 224)),\n",
        "    transforms.ToTensor(),\n",
        "    transforms.Normalize(mean=[0.485, 0.456, 0.406], std=[0.229, 0.224, 0.225])\n",
        "])\n",
        "input_tensor = transform(image).unsqueeze(0)"
      ],
      "metadata": {
        "id": "QpgjQ0CLYHsX"
      },
      "execution_count": null,
      "outputs": []
    },
    {
      "cell_type": "code",
      "source": [
        "# Get the avgpool flatten layer\n",
        "# start = time.perf_counter()\n",
        "avgpool_output = vgg16.features(input_tensor)\n",
        "avgpool_output = vgg16.avgpool(avgpool_output)\n",
        "classifier_output = vgg16.avgpool(avgpool_output)\n",
        "flatten_output = torch.flatten(classifier_output, start_dim=1)\n",
        "classifier_output = vgg16.to(device).classifier(flatten_output)\n",
        "\n",
        "# Get the result of the desired layer\n",
        "desired_output = classifier_output[:, :512]\n",
        "output_array = torch.where(desired_output > 0.5, torch.ones_like(desired_output), torch.zeros_like(desired_output))\n",
        "# print(time.perf_counter() - start)\n",
        "print(output_array)"
      ],
      "metadata": {
        "id": "pyN-KwjYcA3H"
      },
      "execution_count": null,
      "outputs": []
    }
  ]
}