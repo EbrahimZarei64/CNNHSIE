{
  "cells": [
    {
      "cell_type": "markdown",
      "metadata": {
        "id": "view-in-github",
        "colab_type": "text"
      },
      "source": [
        "<a href=\"https://colab.research.google.com/github/EbrahimZarei64/CNNHSIE/blob/main/RepVGG_A0.ipynb\" target=\"_parent\"><img src=\"https://colab.research.google.com/assets/colab-badge.svg\" alt=\"Open In Colab\"/></a>"
      ]
    },
    {
      "cell_type": "code",
      "execution_count": null,
      "id": "3a467248179b2670",
      "metadata": {
        "ExecuteTime": {
          "end_time": "2025-07-22T11:55:19.880617197Z",
          "start_time": "2025-07-22T11:55:19.828300210Z"
        },
        "jupyter": {
          "outputs_hidden": false
        },
        "id": "3a467248179b2670"
      },
      "outputs": [],
      "source": [
        "import torch\n",
        "import torchvision.transforms as transforms\n",
        "from PIL import Image\n",
        "import time\n",
        "import torch.nn as nn\n",
        "import timm\n",
        "from repvgg import create_RepVGG_A0"
      ]
    },
    {
      "cell_type": "code",
      "execution_count": null,
      "id": "a82d721fec5f0351",
      "metadata": {
        "ExecuteTime": {
          "end_time": "2025-07-22T11:55:21.270292512Z",
          "start_time": "2025-07-22T11:55:20.964536890Z"
        },
        "jupyter": {
          "outputs_hidden": false
        },
        "id": "a82d721fec5f0351",
        "outputId": "7d5426bd-ab35-4bb0-f378-909361444ee4"
      },
      "outputs": [
        {
          "name": "stdout",
          "output_type": "stream",
          "text": [
            "Creating pre-trained RepVGG model using timm...\n",
            "Model created successfully.\n"
          ]
        }
      ],
      "source": [
        "device = torch.device(\"cuda\" if torch.cuda.is_available() else \"cpu\")\n",
        "print(\"Creating pre-trained RepVGG model using timm...\")\n",
        "repvgg_model = timm.create_model('repvgg_a0', pretrained=True)\n",
        "print(\"Model created successfully.\")"
      ]
    },
    {
      "cell_type": "code",
      "execution_count": null,
      "id": "25b94f76e971e794",
      "metadata": {
        "ExecuteTime": {
          "end_time": "2025-07-22T11:55:53.604852581Z",
          "start_time": "2025-07-22T11:55:53.530500967Z"
        },
        "jupyter": {
          "outputs_hidden": false
        },
        "id": "25b94f76e971e794",
        "outputId": "96af326f-5468-4d53-d240-5225d9cb0e94"
      },
      "outputs": [
        {
          "name": "stdout",
          "output_type": "stream",
          "text": [
            "RepVGG model is ready for inference.\n"
          ]
        }
      ],
      "source": [
        "num_features = repvgg_model.head.fc.in_features\n",
        "repvgg_model.head.fc = nn.Sequential(\n",
        "    nn.Linear(in_features=num_features, out_features=512),\n",
        "    nn.Sigmoid()\n",
        ")\n",
        "repvgg_model.to(device)\n",
        "repvgg_model.eval() # Set the model to evaluation mode\n",
        "\n",
        "print(\"RepVGG model is ready for inference.\")"
      ]
    },
    {
      "cell_type": "code",
      "execution_count": null,
      "id": "7bbd561fcf6be766",
      "metadata": {
        "ExecuteTime": {
          "end_time": "2025-07-22T11:56:15.290954395Z",
          "start_time": "2025-07-22T11:56:15.246376852Z"
        },
        "jupyter": {
          "outputs_hidden": false
        },
        "id": "7bbd561fcf6be766"
      },
      "outputs": [],
      "source": [
        "image = Image.open('./images/lenna-1.tif').convert('RGB')\n",
        "\n",
        "transform = transforms.Compose([\n",
        "    transforms.Resize((224, 224)),\n",
        "    transforms.ToTensor(),\n",
        "    transforms.Normalize(mean=[0.485, 0.456, 0.406], std=[0.229, 0.224, 0.225])\n",
        "])"
      ]
    },
    {
      "cell_type": "code",
      "execution_count": null,
      "id": "5798d26963b5b997",
      "metadata": {
        "ExecuteTime": {
          "end_time": "2025-07-22T11:56:21.833225817Z",
          "start_time": "2025-07-22T11:56:21.823751724Z"
        },
        "jupyter": {
          "outputs_hidden": false
        },
        "id": "5798d26963b5b997"
      },
      "outputs": [],
      "source": [
        "print(\"\\nStarting feedforward pass...\")\n",
        "start = time.perf_counter()\n",
        "\n",
        "with torch.no_grad():\n",
        "    input_tensor = transform(image).unsqueeze(0).to(device)\n",
        "\n",
        "    classifier_output = repvgg_model(input_tensor)\n",
        "\n",
        "    output_array = torch.where(classifier_output > 0.5,\n",
        "                               torch.ones_like(classifier_output),\n",
        "                               torch.zeros_like(classifier_output))\n",
        "\n",
        "execution_time = time.perf_counter() - start\n",
        "print(f\"Execution Time: {execution_time:.6f} seconds\")\n",
        "output_array"
      ]
    }
  ],
  "metadata": {
    "kernelspec": {
      "display_name": "Python 3 (ipykernel)",
      "language": "python",
      "name": "python3"
    },
    "language_info": {
      "codemirror_mode": {
        "name": "ipython",
        "version": 3
      },
      "file_extension": ".py",
      "mimetype": "text/x-python",
      "name": "python",
      "nbconvert_exporter": "python",
      "pygments_lexer": "ipython3",
      "version": "3.10.12"
    },
    "colab": {
      "provenance": [],
      "include_colab_link": true
    }
  },
  "nbformat": 4,
  "nbformat_minor": 5
}